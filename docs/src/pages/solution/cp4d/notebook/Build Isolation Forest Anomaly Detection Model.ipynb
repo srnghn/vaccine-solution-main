{
 "cells": [
  {
   "cell_type": "markdown",
   "metadata": {
    "id": "d86345c1ee1849d380b06c225fd121f6"
   },
   "source": [
    "## Building an Isolation Forest Anomaly Detection Model\n",
    "\n",
    "This notebook builds an Isolation Forest model, an unsupervised machine learning approach that can be used for anomaly detection. The model is then saved to the Project specifying a custom software specification. We then add a label to our original data to be used as training data.\n",
    "\n",
    "We will be using the library `pyod` which isn't installed by default. The follow code installs the library to make it available for us to use."
   ]
  },
  {
   "cell_type": "code",
   "execution_count": 1,
   "metadata": {
    "id": "772a8f236eda4645991834258377e5b6"
   },
   "outputs": [],
   "source": [
    "!pip -q install pyod"
   ]
  },
  {
   "cell_type": "markdown",
   "metadata": {
    "id": "b19f61dd79c54ecfa2acd204eaf9daa0"
   },
   "source": [
    "We import the majority of the libraries we need, this include `pandas`, `numpy`, `pyplot` from `matplotlib` and various parts of `sklearn`."
   ]
  },
  {
   "cell_type": "code",
   "execution_count": 2,
   "metadata": {
    "id": "1b34828b-9b12-464b-96ec-fc3e69866009"
   },
   "outputs": [],
   "source": [
    "import pandas as pd\n",
    "import numpy as np\n",
    "import matplotlib.pyplot as plt"
   ]
  },
  {
   "cell_type": "code",
   "execution_count": 3,
   "metadata": {
    "id": "e3a33fbdaa114dcab71c13689d374ec5"
   },
   "outputs": [],
   "source": [
    "from sklearn.ensemble import IsolationForest\n",
    "from sklearn.model_selection import train_test_split\n",
    "from sklearn.preprocessing import StandardScaler, OneHotEncoder\n",
    "from sklearn.compose import ColumnTransformer\n",
    "from sklearn.pipeline import Pipeline"
   ]
  },
  {
   "cell_type": "markdown",
   "metadata": {
    "id": "115482bf99bd422986ef9bd9f91ecb51"
   },
   "source": [
    "### Data Preprocessing\n",
    "\n",
    "We read in the training data and then view the first few rows."
   ]
  },
  {
   "cell_type": "code",
   "execution_count": 4,
   "metadata": {
    "id": "c2577a05a0d2420482a5e850dc00aa7e",
    "scrolled": true
   },
   "outputs": [
    {
     "data": {
      "text/html": [
       "<div>\n",
       "<style scoped>\n",
       "    .dataframe tbody tr th:only-of-type {\n",
       "        vertical-align: middle;\n",
       "    }\n",
       "\n",
       "    .dataframe tbody tr th {\n",
       "        vertical-align: top;\n",
       "    }\n",
       "\n",
       "    .dataframe thead th {\n",
       "        text-align: right;\n",
       "    }\n",
       "</style>\n",
       "<table border=\"1\" class=\"dataframe\">\n",
       "  <thead>\n",
       "    <tr style=\"text-align: right;\">\n",
       "      <th></th>\n",
       "      <th>temperature</th>\n",
       "      <th>ambiant_temperature</th>\n",
       "      <th>kilowatts</th>\n",
       "      <th>oxygen_level</th>\n",
       "      <th>nitrogen_level</th>\n",
       "      <th>carbon_dioxide_level</th>\n",
       "      <th>humidity_level</th>\n",
       "      <th>fan_1</th>\n",
       "      <th>vent_2</th>\n",
       "    </tr>\n",
       "  </thead>\n",
       "  <tbody>\n",
       "    <tr>\n",
       "      <th>0</th>\n",
       "      <td>4.733205</td>\n",
       "      <td>19.048409</td>\n",
       "      <td>4.504522</td>\n",
       "      <td>1</td>\n",
       "      <td>3</td>\n",
       "      <td>22.236375</td>\n",
       "      <td>76.979873</td>\n",
       "      <td>40.152803</td>\n",
       "      <td>4.180583</td>\n",
       "    </tr>\n",
       "    <tr>\n",
       "      <th>1</th>\n",
       "      <td>4.470511</td>\n",
       "      <td>19.331282</td>\n",
       "      <td>2.790023</td>\n",
       "      <td>1</td>\n",
       "      <td>6</td>\n",
       "      <td>20.094502</td>\n",
       "      <td>78.145180</td>\n",
       "      <td>40.456544</td>\n",
       "      <td>4.158029</td>\n",
       "    </tr>\n",
       "    <tr>\n",
       "      <th>2</th>\n",
       "      <td>4.913601</td>\n",
       "      <td>21.418761</td>\n",
       "      <td>5.023641</td>\n",
       "      <td>1</td>\n",
       "      <td>6</td>\n",
       "      <td>22.491557</td>\n",
       "      <td>77.910635</td>\n",
       "      <td>39.014223</td>\n",
       "      <td>3.097843</td>\n",
       "    </tr>\n",
       "    <tr>\n",
       "      <th>3</th>\n",
       "      <td>4.390718</td>\n",
       "      <td>20.215180</td>\n",
       "      <td>2.049018</td>\n",
       "      <td>1</td>\n",
       "      <td>3</td>\n",
       "      <td>20.708572</td>\n",
       "      <td>78.413976</td>\n",
       "      <td>40.594922</td>\n",
       "      <td>3.088171</td>\n",
       "    </tr>\n",
       "    <tr>\n",
       "      <th>4</th>\n",
       "      <td>3.872504</td>\n",
       "      <td>18.283026</td>\n",
       "      <td>1.547634</td>\n",
       "      <td>1</td>\n",
       "      <td>6</td>\n",
       "      <td>22.338767</td>\n",
       "      <td>78.424100</td>\n",
       "      <td>38.917349</td>\n",
       "      <td>1.495179</td>\n",
       "    </tr>\n",
       "  </tbody>\n",
       "</table>\n",
       "</div>"
      ],
      "text/plain": [
       "   temperature  ambiant_temperature  kilowatts  oxygen_level  nitrogen_level  \\\n",
       "0     4.733205            19.048409   4.504522             1               3   \n",
       "1     4.470511            19.331282   2.790023             1               6   \n",
       "2     4.913601            21.418761   5.023641             1               6   \n",
       "3     4.390718            20.215180   2.049018             1               3   \n",
       "4     3.872504            18.283026   1.547634             1               6   \n",
       "\n",
       "   carbon_dioxide_level  humidity_level      fan_1    vent_2  \n",
       "0             22.236375       76.979873  40.152803  4.180583  \n",
       "1             20.094502       78.145180  40.456544  4.158029  \n",
       "2             22.491557       77.910635  39.014223  3.097843  \n",
       "3             20.708572       78.413976  40.594922  3.088171  \n",
       "4             22.338767       78.424100  38.917349  1.495179  "
      ]
     },
     "execution_count": 4,
     "metadata": {},
     "output_type": "execute_result"
    }
   ],
   "source": [
    "df = pd.read_csv(\"/project_data/data_asset/vaccine_anomaly_data.csv\")\n",
    "df.head()"
   ]
  },
  {
   "cell_type": "markdown",
   "metadata": {
    "id": "789454eab31c40e2888f3c20d2867b09"
   },
   "source": [
    "As you can see, the training data doesn't have a label indicating whether or not the row is an outlier of not.\n",
    "\n",
    "We split the data into training and test. We build a model on training data and then use the test data to validate if our solution generalizes to previously unseen data. We are assigning 70% of our rows to training and 30% to test."
   ]
  },
  {
   "cell_type": "code",
   "execution_count": 5,
   "metadata": {
    "id": "124328c1bc25436fa4ab210f9963f8bd"
   },
   "outputs": [],
   "source": [
    "train, test = train_test_split(df, test_size=0.30, random_state=123)"
   ]
  },
  {
   "cell_type": "markdown",
   "metadata": {
    "id": "6e0d5b68f6fe41bb94f8657dc3e4e09c"
   },
   "source": [
    "We can view the column names."
   ]
  },
  {
   "cell_type": "code",
   "execution_count": 6,
   "metadata": {
    "id": "15344042656f472884cc67f2bb29b1fd"
   },
   "outputs": [
    {
     "data": {
      "text/plain": [
       "Index(['temperature', 'ambiant_temperature', 'kilowatts', 'oxygen_level',\n",
       "       'nitrogen_level', 'carbon_dioxide_level', 'humidity_level', 'fan_1',\n",
       "       'vent_2'],\n",
       "      dtype='object')"
      ]
     },
     "execution_count": 6,
     "metadata": {},
     "output_type": "execute_result"
    }
   ],
   "source": [
    "train.columns"
   ]
  },
  {
   "cell_type": "markdown",
   "metadata": {
    "id": "e5dd78ddc3354f198220e5dbac2c1d07"
   },
   "source": [
    "We are creating a `ColumnTransformer`. Usually a column transformer will have multiple preprocessing steps and you can specify which columns are relevent for each step. In our care we only have a scaler and all columns are to be transformed."
   ]
  },
  {
   "cell_type": "code",
   "execution_count": 7,
   "metadata": {
    "id": "bb6be0df664b40c6a0ab1b5e58d9c583"
   },
   "outputs": [],
   "source": [
    "ct = ColumnTransformer([\n",
    "        ('scaler', StandardScaler(), ['temperature', 'ambiant_temperature', 'kilowatts',\n",
    "       'oxygen_level', 'carbon_dioxide_level', 'nitrogen_level',\n",
    "       'humidity_level', 'fan_1', 'vent_2'])\n",
    "    ], remainder='passthrough')"
   ]
  },
  {
   "cell_type": "markdown",
   "metadata": {
    "id": "70142e7415d347da9527e98a5aebdef1"
   },
   "source": [
    "### Build and Train Pipeline\n",
    "\n",
    "We import the isolation forest method (IForest) from `pyod`."
   ]
  },
  {
   "cell_type": "code",
   "execution_count": 8,
   "metadata": {
    "id": "dc90e25298c3496bbdbbf96319a84078"
   },
   "outputs": [],
   "source": [
    "from pyod.models.iforest import IForest"
   ]
  },
  {
   "cell_type": "markdown",
   "metadata": {
    "id": "d35b082f7b294de79c5c01d3ade7b885"
   },
   "source": [
    "We create an instance of `IForest` which will be trained on our training data. We specify the contamination rate, what proportion of the data we expect to be anomalies. To ensure you're model predictions are accurate, you may want to explore the best value for this parameter. For the sake of this demo notebook, we are specifying as 0.05, i.e. 5% outliers."
   ]
  },
  {
   "cell_type": "code",
   "execution_count": 9,
   "metadata": {
    "id": "351ebd52c7ab4e93a54d12d5b72b57d2"
   },
   "outputs": [],
   "source": [
    "iforestmodel = IForest(behaviour=\"new\", contamination=0.05) "
   ]
  },
  {
   "cell_type": "markdown",
   "metadata": {
    "id": "ab38996ea99d4e0485b6c81496f34832"
   },
   "source": [
    "We join the column transformer and model into a pipeline."
   ]
  },
  {
   "cell_type": "code",
   "execution_count": 10,
   "metadata": {
    "id": "e0ca75e8d56648bb9a4c06a9af1ff54e"
   },
   "outputs": [],
   "source": [
    "pipe = Pipeline([('columntransformer', ct), ('iforest', iforestmodel)])"
   ]
  },
  {
   "cell_type": "markdown",
   "metadata": {
    "id": "4d36c2f4645148fba017dbcbba40d771"
   },
   "source": [
    "We fit the pipeline to the training data."
   ]
  },
  {
   "cell_type": "code",
   "execution_count": 11,
   "metadata": {
    "id": "504af9a32d904e1ea49142c08f45d16c"
   },
   "outputs": [
    {
     "data": {
      "text/plain": [
       "Pipeline(steps=[('columntransformer',\n",
       "                 ColumnTransformer(remainder='passthrough',\n",
       "                                   transformers=[('scaler', StandardScaler(),\n",
       "                                                  ['temperature',\n",
       "                                                   'ambiant_temperature',\n",
       "                                                   'kilowatts', 'oxygen_level',\n",
       "                                                   'carbon_dioxide_level',\n",
       "                                                   'nitrogen_level',\n",
       "                                                   'humidity_level', 'fan_1',\n",
       "                                                   'vent_2'])])),\n",
       "                ('iforest',\n",
       "                 IForest(behaviour='new', bootstrap=False, contamination=0.05,\n",
       "    max_features=1.0, max_samples='auto', n_estimators=100, n_jobs=1,\n",
       "    random_state=None, verbose=0))])"
      ]
     },
     "execution_count": 11,
     "metadata": {},
     "output_type": "execute_result"
    }
   ],
   "source": [
    "pipe.fit(train)"
   ]
  },
  {
   "cell_type": "markdown",
   "metadata": {
    "id": "9657d561ab614aa1ac29f337b06612d1"
   },
   "source": [
    "### Explore Predictions\n",
    "\n",
    "The `pyod` model will provide values indicating a distance. Above a particular threshold, a data point will be predicted to be an anomaly, lower than this it is normal. We use `decision_fuction` to capture this distance value for each training row."
   ]
  },
  {
   "cell_type": "code",
   "execution_count": 12,
   "metadata": {
    "id": "113471fe024048c083d7e6fa793b80b3"
   },
   "outputs": [],
   "source": [
    "y_train_scores = pipe.decision_function(train)\n",
    "y_train_scores = pd.Series(y_train_scores)"
   ]
  },
  {
   "cell_type": "markdown",
   "metadata": {
    "id": "ad824aa515bc47f883a1cb7f19e8f024"
   },
   "source": [
    "Similarly we calculate the distance value for the test data."
   ]
  },
  {
   "cell_type": "code",
   "execution_count": 13,
   "metadata": {
    "id": "ef1442b5032a49fd8a1e733831e5a198"
   },
   "outputs": [],
   "source": [
    "y_test_scores = pipe.decision_function(test)\n",
    "y_test_scores = pd.Series(y_test_scores)"
   ]
  },
  {
   "cell_type": "markdown",
   "metadata": {
    "id": "491b5c5b728248398289991862ce1546"
   },
   "source": [
    "We can create a copy of our training data and add a new column for the distance value, as well as add a column for the prediction. "
   ]
  },
  {
   "cell_type": "code",
   "execution_count": 14,
   "metadata": {
    "id": "24fd17db40d64aaf869dd3987a715288"
   },
   "outputs": [],
   "source": [
    "train_iforest = train.copy().reset_index()\n",
    "train_iforest['distance'] = y_train_scores\n",
    "train_iforest['pred'] = pipe.predict(train)"
   ]
  },
  {
   "cell_type": "markdown",
   "metadata": {
    "id": "ddddd20ca8c54f558d904ec2cf0d97c9"
   },
   "source": [
    "We repeat for the test data."
   ]
  },
  {
   "cell_type": "code",
   "execution_count": 15,
   "metadata": {
    "id": "40728bd93d074eaf9557398dae172a90"
   },
   "outputs": [],
   "source": [
    "test_iforest = test.copy().reset_index()\n",
    "test_iforest['distance'] = y_test_scores\n",
    "test_iforest['pred'] = pipe.predict(test)"
   ]
  },
  {
   "cell_type": "markdown",
   "metadata": {
    "id": "ef43da884fa9451b89c49ea16fdb5b1e"
   },
   "source": [
    "We can check what the prediction values can be."
   ]
  },
  {
   "cell_type": "code",
   "execution_count": 16,
   "metadata": {
    "id": "52710d946ecb4281819361d4b3a31db1"
   },
   "outputs": [
    {
     "data": {
      "text/plain": [
       "array([0, 1])"
      ]
     },
     "execution_count": 16,
     "metadata": {},
     "output_type": "execute_result"
    }
   ],
   "source": [
    "test_iforest['pred'].unique()"
   ]
  },
  {
   "cell_type": "markdown",
   "metadata": {
    "id": "b818a8d465164fc4821d138ecd518177"
   },
   "source": [
    "A 1 indicates an outlier (/anomaly) and a 0 indicates inlier (/normal).\n",
    "\n",
    "To create graphs, we check what the minimum and maximum distance values are."
   ]
  },
  {
   "cell_type": "code",
   "execution_count": 17,
   "metadata": {
    "id": "1ce079723d024b3c8b66d537d5371b57",
    "scrolled": true
   },
   "outputs": [
    {
     "name": "stdout",
     "output_type": "stream",
     "text": [
      "-0.1769636408205062 0.10019231762377423\n"
     ]
    }
   ],
   "source": [
    "print(train_iforest['distance'].min(), train_iforest['distance'].max())"
   ]
  },
  {
   "cell_type": "markdown",
   "metadata": {
    "id": "db934447bf1549a083eadf754eebf8dc"
   },
   "source": [
    "We can separate our data into regular and anomaly data, depending on the assign predictions."
   ]
  },
  {
   "cell_type": "code",
   "execution_count": 18,
   "metadata": {
    "id": "a542936a0c054f3d870cd0414ddb6770",
    "scrolled": true
   },
   "outputs": [],
   "source": [
    "danomaly = train_iforest[train_iforest['pred'] == 1.]['distance']\n",
    "dregular = train_iforest[train_iforest['pred'] == 0.]['distance']"
   ]
  },
  {
   "cell_type": "markdown",
   "metadata": {
    "id": "255d5b71e4664db2b75b5183310004db"
   },
   "source": [
    "We then plot the frequency of data points for each distance value and use the color orange to indicate which are predicted to be inliers and blue to indicate which are predicted to be outliers."
   ]
  },
  {
   "cell_type": "code",
   "execution_count": 19,
   "metadata": {
    "id": "892f701a52474d519848b0b09bca219d",
    "scrolled": true
   },
   "outputs": [
    {
     "data": {
      "image/png": "[encoded data removed]",
      "text/plain": [
       "<Figure size 432x288 with 1 Axes>"
      ]
     },
     "metadata": {
      "needs_background": "light"
     },
     "output_type": "display_data"
    }
   ],
   "source": [
    "bins = np.linspace(-0.10, 0.20)\n",
    "plt.hist(danomaly, bins=bins)\n",
    "plt.hist(dregular, bins=bins)\n",
    "plt.title(\"Histogram for IForest Model Anomaly Scores\")\n",
    "plt.show()"
   ]
  },
  {
   "cell_type": "markdown",
   "metadata": {
    "id": "081975f144924c09b09bb40439cc88d8"
   },
   "source": [
    "This process could be repeated to decide on the best contamination value. Alternatively, if you capture labels indicating outliers for this data, you could replace the predictions with the true labels and see where the majority of them sit.\n",
    "\n",
    "We repeat for test data."
   ]
  },
  {
   "cell_type": "code",
   "execution_count": 20,
   "metadata": {
    "id": "d7512e4f8fdf4f508adb76ac93e24d45",
    "scrolled": false
   },
   "outputs": [
    {
     "data": {
      "image/png": "[encoded data removed]",
      "text/plain": [
       "<Figure size 432x288 with 1 Axes>"
      ]
     },
     "metadata": {
      "needs_background": "light"
     },
     "output_type": "display_data"
    }
   ],
   "source": [
    "dtanomaly = test_iforest[test_iforest['pred'] == 1.]['distance']\n",
    "dtregular = test_iforest[test_iforest['pred'] == 0.]['distance']\n",
    "bins = np.linspace(-0.15, 0.20)\n",
    "plt.hist(dtanomaly, bins=bins)\n",
    "plt.hist(dtregular, bins=bins)\n",
    "plt.title(\"Histogram for IForest Model Anomaly Scores\")\n",
    "plt.show()"
   ]
  },
  {
   "cell_type": "markdown",
   "metadata": {
    "id": "cc99b86894be44348e40ea6150c38bc2"
   },
   "source": [
    "### Save Model to Project\n",
    "\n",
    "Next we save the model to the project. The below code imports the Watson Machine Learning library and creates a client using the required credential information."
   ]
  },
  {
   "cell_type": "code",
   "execution_count": 21,
   "metadata": {
    "id": "9c099f2254884d858c317b22aa79fd71"
   },
   "outputs": [],
   "source": [
    "from ibm_watson_machine_learning import APIClient\n",
    "import os\n",
    "\n",
    "token = os.environ['USER_ACCESS_TOKEN']\n",
    "\n",
    "wml_credentials = {\n",
    "    \"token\": token,\n",
    "    \"instance_id\" : \"openshift\",\n",
    "    \"url\": os.environ['RUNTIME_ENV_APSX_URL'],\n",
    "    \"version\": \"3.5\"\n",
    "}\n",
    "\n",
    "wml_client = APIClient(wml_credentials)"
   ]
  },
  {
   "cell_type": "markdown",
   "metadata": {
    "id": "a3c105041bd84aec89ec520450011051"
   },
   "source": [
    "The following code uses the `project_lib` library to capture the ID for the current project."
   ]
  },
  {
   "cell_type": "code",
   "execution_count": 22,
   "metadata": {
    "id": "f0fa7de34b37439f8e253fb82e7f84ea"
   },
   "outputs": [],
   "source": [
    "from project_lib import Project\n",
    "project = Project.access()\n",
    "project_id = project.get_metadata()['metadata']['guid']    "
   ]
  },
  {
   "cell_type": "markdown",
   "metadata": {
    "id": "487e6789b79443a697f3fdab324e15c0"
   },
   "source": [
    "We tell the Watson Machine learning client that it should use this Project for accessing software specifications and saving our model."
   ]
  },
  {
   "cell_type": "code",
   "execution_count": 23,
   "metadata": {
    "id": "052791238863474f8a425db86fd8ae8e"
   },
   "outputs": [
    {
     "data": {
      "text/plain": [
       "'SUCCESS'"
      ]
     },
     "execution_count": 23,
     "metadata": {},
     "output_type": "execute_result"
    }
   ],
   "source": [
    "wml_client.set.default_project(project_id)"
   ]
  },
  {
   "cell_type": "markdown",
   "metadata": {
    "id": "8d255495b9cd4898b961b33d8796655b"
   },
   "source": [
    "We list all software specifications available in this project to locate the `ASSET_ID` for our custom software specification that has `pyod` included."
   ]
  },
  {
   "cell_type": "code",
   "execution_count": 24,
   "metadata": {
    "id": "8d9590653ce04c01b2a8c23c17d9b098"
   },
   "outputs": [
    {
     "name": "stdout",
     "output_type": "stream",
     "text": [
      "-----------------------------  ------------------------------------  -------\n",
      "NAME                           ASSET_ID                              TYPE\n",
      "default_py3.6                  0062b8c9-8b7d-44a0-a9b9-46c416adcbd9  base\n",
      "pytorch-onnx_1.3-py3.7-edt     069ea134-3346-5748-b513-49120e15d288  base\n",
      "scikit-learn_0.20-py3.6        09c5a1d0-9c1e-4473-a344-eb7b665ff687  base\n",
      "spark-mllib_3.0-scala_2.12     09f4cff0-90a7-5899-b9ed-1ef348aebdee  base\n",
      "ai-function_0.1-py3.6          0cdb0f1e-5376-4f4d-92dd-da3b69aa9bda  base\n",
      "shiny-r3.6                     0e6e79df-875e-4f24-8ae9-62dcc2148306  base\n",
      "pytorch_1.1-py3.6              10ac12d6-6b30-4ccd-8392-3e922c096a92  base\n",
      "scikit-learn_0.22-py3.6        154010fa-5b3b-4ac1-82af-4d5ee5abbc85  base\n",
      "default_r3.6                   1b70aec3-ab34-4b87-8aa0-a4a3c8296a36  base\n",
      "tensorflow_1.15-py3.6          2b73a275-7cbf-420b-a912-eae7f436e0bc  base\n",
      "pytorch_1.2-py3.6              2c8ef57d-2687-4b7d-acce-01f94976dac1  base\n",
      "spark-mllib_2.3                2e51f700-bca0-4b0d-88dc-5c6791338875  base\n",
      "pytorch-onnx_1.1-py3.6-edt     32983cea-3f32-4400-8965-dde874a8d67e  base\n",
      "spark-mllib_3.0-py37           36507ebe-8770-55ba-ab2a-eafe787600e9  base\n",
      "spark-mllib_2.4                390d21f8-e58b-4fac-9c55-d7ceda621326  base\n",
      "xgboost_0.82-py3.6             39e31acd-5f30-41dc-ae44-60233c80306e  base\n",
      "pytorch-onnx_1.2-py3.6-edt     40589d0e-7019-4e28-8daa-fb03b6f4fe12  base\n",
      "ai-function_0.2-py3.6          435bfa8f-ddae-549a-826a-894368887231  base\n",
      "spark-mllib_2.4-r_3.6          49403dff-92e9-4c87-a3d7-a42d0021c095  base\n",
      "xgboost_0.90-py3.6             4ff8d6c2-1343-4c18-85e1-689c965304d3  base\n",
      "pytorch-onnx_1.1-py3.6         50f95b2a-bc16-43bb-bc94-b0bed208c60b  base\n",
      "spark-mllib_2.4-scala_2.11     55a70f99-7320-4be5-9fb9-9edb5a443af5  base\n",
      "autoai-obm_2.0                 5c2e37fa-80b8-5e77-840f-d912469614ee  base\n",
      "spss-modeler_18.1              5c3cad7e-507f-4b2a-a9a3-ab53a21dee8b  base\n",
      "autoai-kb_3.1-py3.7            632d4b22-10aa-5180-88f0-f52dfb6444d7  base\n",
      "spss-modeler_18.2              687eddc9-028a-4117-b9dd-e57b36f1efa5  base\n",
      "pytorch-onnx_1.2-py3.6         692a6a4d-2c4d-45ff-a1ed-b167ee55469a  base\n",
      "do_12.9                        75a3a4b0-6aa0-41b3-a618-48b1f56332a6  base\n",
      "spark-mllib_2.4-py37           7abc992b-b685-532b-a122-a396a3cdbaab  base\n",
      "caffe_1.0-py3.6                7bb3dbe2-da6e-4145-918d-b6d84aa93b6b  base\n",
      "cuda-py3.6                     82c79ece-4d12-40e6-8787-a7b9e0f62770  base\n",
      "hybrid_0.1                     8c1a58c6-62b5-4dc4-987a-df751c2756b6  base\n",
      "pytorch-onnx_1.3-py3.7         8d5d8a87-a912-54cf-81ec-3914adaa988d  base\n",
      "caffe-ibm_1.0-py3.6            8d863266-7927-4d1e-97d7-56a7f4c0a19b  base\n",
      "spss-modeler_17.1              902d0051-84bd-4af6-ab6b-8f6aa6fdeabb  base\n",
      "do_12.10                       9100fd72-8159-4eb9-8a0b-a87e12eefa36  base\n",
      "do_py3.7                       9447fa8b-2051-4d24-9eef-5acb0e3c59f8  base\n",
      "spark-mllib_3.0-r_3.6          94bb6052-c837-589d-83f1-f4142f219e32  base\n",
      "cuda-py3.7                     9a44990c-1aa1-4c7d-baf8-c4099011741c  base\n",
      "hybrid_0.2                     9b3f9040-9cee-4ead-8d7a-780600f542f7  base\n",
      "autoai-obm_2.0 with Spark 3.0  af10f35f-69fa-5d66-9bf5-acb58434263a  base\n",
      "tensorflow_2.1-py3.7           c4032338-2a40-500a-beef-b01ab2667e27  base\n",
      "autoai-kb_3.0-py3.6            d139f196-e04b-5d8b-9140-9a10ca1fa91a  base\n",
      "spark-mllib_3.0-py36           d82546d5-dd78-5fbb-9131-2ec309bc56ed  base\n",
      "default_py3.7                  e4429883-c883-42b6-87a8-f419d64088cd  base\n",
      "Python 3.7 with pyod           2b11bad7-14df-4872-8af1-8124bef95768  derived\n",
      "-----------------------------  ------------------------------------  -------\n"
     ]
    }
   ],
   "source": [
    "wml_client.software_specifications.list()"
   ]
  },
  {
   "cell_type": "markdown",
   "metadata": {
    "id": "cdebf4eb46f04be69ed3456afee6385f"
   },
   "source": [
    "We capture the ID for our software specification."
   ]
  },
  {
   "cell_type": "code",
   "execution_count": 25,
   "metadata": {
    "id": "d0e9be3244d2470c84867355ae239f88"
   },
   "outputs": [],
   "source": [
    "software_spec_uid = '2b11bad7-14df-4872-8af1-8124bef95768'"
   ]
  },
  {
   "cell_type": "markdown",
   "metadata": {
    "id": "a47a798ece6549fe863de7c80f64b703"
   },
   "source": [
    "Next we provide some metadata for our model, we provide the name we wish to give it, the software specification it should use and that it's type is `scikit-learn_0.23` as we used scikit-learn's Pipeline for our model."
   ]
  },
  {
   "cell_type": "code",
   "execution_count": 26,
   "metadata": {
    "id": "e366e4014de346dd84f9386d1cb112e3"
   },
   "outputs": [],
   "source": [
    "MODEL_NAME=\"vaccine-anomaly-pyod-iforest-model\"\n",
    "\n",
    "metadata = {\n",
    "    wml_client.repository.ModelMetaNames.NAME: MODEL_NAME,\n",
    "    wml_client.repository.ModelMetaNames.SOFTWARE_SPEC_UID: software_spec_uid,\n",
    "    wml_client.repository.ModelMetaNames.TYPE: \"scikit-learn_0.23\"\n",
    "}"
   ]
  },
  {
   "cell_type": "markdown",
   "metadata": {
    "id": "8a94fb238ca445779b70a1904d7087b1"
   },
   "source": [
    "We store the model to the respository so that it is now available in the project."
   ]
  },
  {
   "cell_type": "code",
   "execution_count": 27,
   "metadata": {
    "id": "d0c52103be5043e58e5cdd87c2b1b386"
   },
   "outputs": [
    {
     "data": {
      "text/plain": [
       "{'entity': {'software_spec': {'id': '2b11bad7-14df-4872-8af1-8124bef95768',\n",
       "   'name': 'Python 3.7 with pyod'},\n",
       "  'type': 'scikit-learn_0.23'},\n",
       " 'metadata': {'created_at': '2021-04-12T22:24:31.425Z',\n",
       "  'id': '0e6ed878-9116-4e57-9b5f-1a050a40e781',\n",
       "  'modified_at': '2021-04-12T22:24:32.700Z',\n",
       "  'name': 'vaccine-anomaly-pyod-iforest-model',\n",
       "  'owner': '1000331024',\n",
       "  'project_id': '7bd837d2-f736-4a67-9a8a-8a95bbb37d9e'},\n",
       " 'system': {'warnings': []}}"
      ]
     },
     "execution_count": 27,
     "metadata": {},
     "output_type": "execute_result"
    }
   ],
   "source": [
    "model_details = wml_client.repository.store_model(pipe, meta_props=metadata,training_data=None, training_target=None)\n",
    "model_details"
   ]
  },
  {
   "cell_type": "markdown",
   "metadata": {
    "id": "8cc6162e3fa54ede8a0236cd3144223c"
   },
   "source": [
    "### Saving Training Data\n",
    "\n",
    "As mentioned previously, we don't have true labels for our training data. However, we need to understand how accurate the model is before we deploy it. This should be done by evaluating the predictions. For example, you could provide a subset of values predicted to be inliers and others predicted to be outliers (with some focus on the boundary between the two) to subject matter experts to confirm or correct the predictions. Metrics such as accuracy, recall and precision could then be calculated on this dataset. If the size is large enough, this could then be used with binary classification methods to build another model.\n",
    "\n",
    "For this demo we will create a copy of the original data and assume all predictions from our model are accurate, creating a column `anomaly` for our 'true' label."
   ]
  },
  {
   "cell_type": "code",
   "execution_count": 28,
   "metadata": {
    "id": "796540e5fbda448cbe185edefef24922"
   },
   "outputs": [],
   "source": [
    "df_pred = df.copy()"
   ]
  },
  {
   "cell_type": "code",
   "execution_count": 29,
   "metadata": {
    "id": "1546f3077ada4e6d91e1ad46a243ec30"
   },
   "outputs": [],
   "source": [
    "df_pred['anomaly'] = pipe.predict(df_pred)"
   ]
  },
  {
   "cell_type": "markdown",
   "metadata": {
    "id": "c9a216ce06e14c408951b2d6c50592c9"
   },
   "source": [
    "we view the first few rows of this table."
   ]
  },
  {
   "cell_type": "code",
   "execution_count": 30,
   "metadata": {
    "id": "d6b2f36ddfda4f9b934461fc6c04db5d"
   },
   "outputs": [
    {
     "data": {
      "text/html": [
       "<div>\n",
       "<style scoped>\n",
       "    .dataframe tbody tr th:only-of-type {\n",
       "        vertical-align: middle;\n",
       "    }\n",
       "\n",
       "    .dataframe tbody tr th {\n",
       "        vertical-align: top;\n",
       "    }\n",
       "\n",
       "    .dataframe thead th {\n",
       "        text-align: right;\n",
       "    }\n",
       "</style>\n",
       "<table border=\"1\" class=\"dataframe\">\n",
       "  <thead>\n",
       "    <tr style=\"text-align: right;\">\n",
       "      <th></th>\n",
       "      <th>temperature</th>\n",
       "      <th>ambiant_temperature</th>\n",
       "      <th>kilowatts</th>\n",
       "      <th>oxygen_level</th>\n",
       "      <th>nitrogen_level</th>\n",
       "      <th>carbon_dioxide_level</th>\n",
       "      <th>humidity_level</th>\n",
       "      <th>fan_1</th>\n",
       "      <th>vent_2</th>\n",
       "      <th>anomaly</th>\n",
       "    </tr>\n",
       "  </thead>\n",
       "  <tbody>\n",
       "    <tr>\n",
       "      <th>0</th>\n",
       "      <td>4.733205</td>\n",
       "      <td>19.048409</td>\n",
       "      <td>4.504522</td>\n",
       "      <td>1</td>\n",
       "      <td>3</td>\n",
       "      <td>22.236375</td>\n",
       "      <td>76.979873</td>\n",
       "      <td>40.152803</td>\n",
       "      <td>4.180583</td>\n",
       "      <td>0</td>\n",
       "    </tr>\n",
       "    <tr>\n",
       "      <th>1</th>\n",
       "      <td>4.470511</td>\n",
       "      <td>19.331282</td>\n",
       "      <td>2.790023</td>\n",
       "      <td>1</td>\n",
       "      <td>6</td>\n",
       "      <td>20.094502</td>\n",
       "      <td>78.145180</td>\n",
       "      <td>40.456544</td>\n",
       "      <td>4.158029</td>\n",
       "      <td>0</td>\n",
       "    </tr>\n",
       "    <tr>\n",
       "      <th>2</th>\n",
       "      <td>4.913601</td>\n",
       "      <td>21.418761</td>\n",
       "      <td>5.023641</td>\n",
       "      <td>1</td>\n",
       "      <td>6</td>\n",
       "      <td>22.491557</td>\n",
       "      <td>77.910635</td>\n",
       "      <td>39.014223</td>\n",
       "      <td>3.097843</td>\n",
       "      <td>0</td>\n",
       "    </tr>\n",
       "    <tr>\n",
       "      <th>3</th>\n",
       "      <td>4.390718</td>\n",
       "      <td>20.215180</td>\n",
       "      <td>2.049018</td>\n",
       "      <td>1</td>\n",
       "      <td>3</td>\n",
       "      <td>20.708572</td>\n",
       "      <td>78.413976</td>\n",
       "      <td>40.594922</td>\n",
       "      <td>3.088171</td>\n",
       "      <td>0</td>\n",
       "    </tr>\n",
       "    <tr>\n",
       "      <th>4</th>\n",
       "      <td>3.872504</td>\n",
       "      <td>18.283026</td>\n",
       "      <td>1.547634</td>\n",
       "      <td>1</td>\n",
       "      <td>6</td>\n",
       "      <td>22.338767</td>\n",
       "      <td>78.424100</td>\n",
       "      <td>38.917349</td>\n",
       "      <td>1.495179</td>\n",
       "      <td>0</td>\n",
       "    </tr>\n",
       "  </tbody>\n",
       "</table>\n",
       "</div>"
      ],
      "text/plain": [
       "   temperature  ambiant_temperature  kilowatts  oxygen_level  nitrogen_level  \\\n",
       "0     4.733205            19.048409   4.504522             1               3   \n",
       "1     4.470511            19.331282   2.790023             1               6   \n",
       "2     4.913601            21.418761   5.023641             1               6   \n",
       "3     4.390718            20.215180   2.049018             1               3   \n",
       "4     3.872504            18.283026   1.547634             1               6   \n",
       "\n",
       "   carbon_dioxide_level  humidity_level      fan_1    vent_2  anomaly  \n",
       "0             22.236375       76.979873  40.152803  4.180583        0  \n",
       "1             20.094502       78.145180  40.456544  4.158029        0  \n",
       "2             22.491557       77.910635  39.014223  3.097843        0  \n",
       "3             20.708572       78.413976  40.594922  3.088171        0  \n",
       "4             22.338767       78.424100  38.917349  1.495179        0  "
      ]
     },
     "execution_count": 30,
     "metadata": {},
     "output_type": "execute_result"
    }
   ],
   "source": [
    "df_pred.head()"
   ]
  },
  {
   "cell_type": "markdown",
   "metadata": {
    "id": "ac996fec39904c178f9409e6d2699361"
   },
   "source": [
    "We then save this to the project."
   ]
  },
  {
   "cell_type": "code",
   "execution_count": 31,
   "metadata": {
    "id": "11ff61c73e974ba18e29043401ca76cf"
   },
   "outputs": [
    {
     "data": {
      "text/plain": [
       "{'file_name': 'vaccine_anomaly_data_with_labels.csv',\n",
       " 'message': 'File saved to project storage.',\n",
       " 'asset_id': '84e1ee05-78a8-47fe-9372-c3e931ed8e42'}"
      ]
     },
     "execution_count": 31,
     "metadata": {},
     "output_type": "execute_result"
    }
   ],
   "source": [
    "project.save_data(\"vaccine_anomaly_data_with_labels.csv\", df_pred.to_csv(index=False), overwrite=True)"
   ]
  }
 ],
 "metadata": {
  "kernelspec": {
   "display_name": "Python 3.7",
   "language": "python",
   "name": "python3"
  },
  "language_info": {
   "codemirror_mode": {
    "name": "ipython",
    "version": 3
   },
   "file_extension": ".py",
   "mimetype": "text/x-python",
   "name": "python",
   "nbconvert_exporter": "python",
   "pygments_lexer": "ipython3",
   "version": "3.7.9"
  }
 },
 "nbformat": 4,
 "nbformat_minor": 1
}
